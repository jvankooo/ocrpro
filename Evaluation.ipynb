{
 "cells": [
  {
   "cell_type": "code",
   "execution_count": 1,
   "metadata": {},
   "outputs": [
    {
     "data": {
      "text/plain": [
       "'Proposal Summary December, 2021\\nBorrower Name: Terrals Technologies Pvt. Ltd.\\nSector: Chronic Disease Management and Healthcare Services Platform\\nProposed Amount: Up to INR 45,00,00,000\\nTranche 1: INR 10,00,00,000\\nTranche 2: Up to 15% of the equity raise (Series B) with an overall cap of INR 35Cr\\nTenor: 18 months from the date of disbursement of each tranche\\nDebt XIRR: 16.56%; Warrants: 7%; XIRR with warrant upside: 31.2%\\nRepayment Schedule:\\nQuarterly Amortization (5 instalments); Moratorium for three months i.e., first principal instalment at the end of 6\\nmonths. The coupons are to be serviced monthly on the last day of each month.\\nFiltering Criteria:\\nCriteria Stride Filter Pre-Equity Post-Equity*\\nEquity Raised till Date > INR 50Cr INR 64Cr INR 192 Cr\\nDebt/Equity Raised (incl. proposed\\n< 15% 15.9% 15.16%(1)(2)\\ndebt)\\nDebt/Valuation (incl. proposed debt) <5% 6.6% NA(3)\\nMonths of Runway (excl. proposed debt) >9 >3(1) >18\\nRevenue ARR > INR 25Cr INR 95 Cr\\n*Assumed only $17M Series B takes '"
      ]
     },
     "execution_count": 1,
     "metadata": {},
     "output_type": "execute_result"
    }
   ],
   "source": [
    "import pdfplumber\n",
    "\n",
    "# Load ground truth text from the input PDF using pdfplumber\n",
    "input_pdf_path = r\"E:\\Btech_AI\\Intern\\ocrpro\\Phable CAM Final.pdf\"\n",
    "ground_truth_text = \"\"\n",
    "\n",
    "with pdfplumber.open(input_pdf_path) as pdf:\n",
    "    for page in pdf.pages:\n",
    "        ground_truth_text += page.extract_text() + \"\\n\"\n",
    "\n",
    "# Save the extracted ground truth text for comparison\n",
    "ground_truth_text = ground_truth_text.strip()\n",
    "\n",
    "# Display first 1000 characters for verification\n",
    "ground_truth_text[:1000]\n"
   ]
  }
 ],
 "metadata": {
  "kernelspec": {
   "display_name": "Python 3",
   "language": "python",
   "name": "python3"
  },
  "language_info": {
   "codemirror_mode": {
    "name": "ipython",
    "version": 3
   },
   "file_extension": ".py",
   "mimetype": "text/x-python",
   "name": "python",
   "nbconvert_exporter": "python",
   "pygments_lexer": "ipython3",
   "version": "3.12.0"
  }
 },
 "nbformat": 4,
 "nbformat_minor": 2
}
